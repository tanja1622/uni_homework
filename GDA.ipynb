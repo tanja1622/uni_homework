{
  "nbformat": 4,
  "nbformat_minor": 0,
  "metadata": {
    "colab": {
      "provenance": []
    },
    "kernelspec": {
      "name": "python3",
      "display_name": "Python 3"
    },
    "language_info": {
      "name": "python"
    }
  },
  "cells": [
    {
      "cell_type": "code",
      "execution_count": 1,
      "metadata": {
        "colab": {
          "base_uri": "https://localhost:8080/"
        },
        "id": "GsxwGCnRsqNh",
        "outputId": "dc799c11-f22c-4998-f8b0-d90e427d3539"
      },
      "outputs": [
        {
          "output_type": "stream",
          "name": "stdout",
          "text": [
            "Mounted at /content/drive/\n"
          ]
        }
      ],
      "source": [
        "from google.colab import drive\n",
        "drive.mount('/content/drive/')"
      ]
    },
    {
      "cell_type": "code",
      "source": [
        "ls -ltr"
      ],
      "metadata": {
        "colab": {
          "base_uri": "https://localhost:8080/"
        },
        "id": "Z-2wPEEitbQ4",
        "outputId": "fa4a0093-2b1b-4227-f96b-6246f80cb52c"
      },
      "execution_count": 2,
      "outputs": [
        {
          "output_type": "stream",
          "name": "stdout",
          "text": [
            "total 8\n",
            "drwxr-xr-x 1 root root 4096 Nov 17 14:32 \u001b[0m\u001b[01;34msample_data\u001b[0m/\n",
            "drwx------ 5 root root 4096 Nov 18 20:06 \u001b[01;34mdrive\u001b[0m/\n"
          ]
        }
      ]
    },
    {
      "cell_type": "code",
      "source": [
        "cd drive/MyDrive/"
      ],
      "metadata": {
        "colab": {
          "base_uri": "https://localhost:8080/"
        },
        "id": "d9Raw7LMtfIW",
        "outputId": "abb292f6-360e-4742-94cc-0cc51447ce7d"
      },
      "execution_count": 3,
      "outputs": [
        {
          "output_type": "stream",
          "name": "stdout",
          "text": [
            "/content/drive/MyDrive\n"
          ]
        }
      ]
    },
    {
      "cell_type": "code",
      "source": [
        "ls -ltr\n"
      ],
      "metadata": {
        "id": "xMAhc6c014Mh",
        "colab": {
          "base_uri": "https://localhost:8080/"
        },
        "outputId": "27dd94c6-9b5b-496b-afdc-7f25488aeca8"
      },
      "execution_count": 4,
      "outputs": [
        {
          "output_type": "stream",
          "name": "stdout",
          "text": [
            "total 415\n",
            "-rw------- 1 root root  52574 Oct 21  2019  data.csv\n",
            "drwx------ 2 root root   4096 Sep 25 17:06 \u001b[0m\u001b[01;34m'Colab Notebooks'\u001b[0m/\n",
            "-rw------- 1 root root    258 Oct 27 20:24  Model.py\n",
            "-rw------- 1 root root 129858 Oct 27 20:34  mu-dom1-linReg.pdf\n",
            "-rw------- 1 root root   5507 Oct 27 20:56  MU_prvi_domaci_Jelena.py\n",
            "-rw------- 1 root root   5124 Oct 29 14:38  prvi_domaci_zadatak.py\n",
            "-rw------- 1 root root  22296 Nov  2 22:31 'cross-validation (1).ipynb'\n",
            "-rw------- 1 root root   8544 Nov  7 13:24  multiclass_data.csv\n",
            "drwx------ 2 root root   4096 Nov  7 13:31  \u001b[01;34mtudje_2dom\u001b[0m/\n",
            "-rw------- 1 root root 189967 Nov  7 16:57  aaa.ipynb\n"
          ]
        }
      ]
    },
    {
      "cell_type": "code",
      "source": [
        "import pandas as pd\n",
        "import numpy as np\n",
        "import matplotlib.pyplot as plt\n",
        "from sklearn.model_selection import train_test_split  "
      ],
      "metadata": {
        "id": "HFrq4Dyev_JC"
      },
      "execution_count": 5,
      "outputs": []
    },
    {
      "cell_type": "code",
      "source": [
        "#ucitavanje dataseta\n",
        "df=pd.read_csv('multiclass_data.csv', header=None)\n"
      ],
      "metadata": {
        "id": "CVkhilAXwAvt"
      },
      "execution_count": 6,
      "outputs": []
    },
    {
      "cell_type": "code",
      "source": [
        "#mixing data\n",
        "df=df.iloc[np.random.permutation(len(df))]\n",
        "#razdvojomo data set na input and output\n",
        "X_dataset=df.iloc[:,:5]\n",
        "Y_dataset=df.iloc[:,5:]\n",
        "X_dataset=X_dataset.to_numpy()\n",
        "Y_dataset=Y_dataset.to_numpy()"
      ],
      "metadata": {
        "id": "735bk_fe4AZe"
      },
      "execution_count": 7,
      "outputs": []
    },
    {
      "cell_type": "code",
      "source": [
        "#deljeje na train i test dataset\n",
        "X_train, X_test, Y_train, Y_test=train_test_split(X_dataset,Y_dataset)\n"
      ],
      "metadata": {
        "id": "P7ef6All1-ym"
      },
      "execution_count": 8,
      "outputs": []
    },
    {
      "cell_type": "code",
      "source": [
        "#razvrstavanje trenig seta \n",
        "X_train_0=X_train[np.where(Y_train==0)[0],:]\n",
        "X_train_1=X_train[np.where(Y_train==1)[0],:]\n",
        "X_train_2=X_train[np.where(Y_train==2)[0],:]\n",
        "m0_t=np.size(X_train_0,0)\n"
      ],
      "metadata": {
        "id": "ABRchONsY9Vx"
      },
      "execution_count": 9,
      "outputs": []
    },
    {
      "cell_type": "code",
      "source": [
        "#racunanje mi-a\n",
        "mi_0=np.sum(X_train_0,axis=0)/X_train_0.shape[0]\n",
        "mi_1=np.sum(X_train_1,axis=0)/X_train_1.shape[0]\n",
        "mi_2=np.sum(X_train_2,axis=0)/X_train_2.shape[0]"
      ],
      "metadata": {
        "id": "Sg2hT_SfBG44"
      },
      "execution_count": 10,
      "outputs": []
    },
    {
      "cell_type": "code",
      "source": [
        "#racunanje kovarijacionih matrica\n",
        "m0=X_train_0.shape[0]\n",
        "m1=X_train_1.shape[0]\n",
        "m2=X_train_2.shape[0]\n",
        "conv_0=(1/m0) * np.dot(np.transpose((X_train_0 - mi_0)),(X_train_0 - mi_0))\n",
        "conv_1=(1/m1) * np.dot(np.transpose((X_train_1 - mi_1)),(X_train_1 - mi_1))\n",
        "conv_2=(1/m2) * np.dot(np.transpose((X_train_2 - mi_2)),(X_train_2 - mi_2))"
      ],
      "metadata": {
        "id": "RaDwbGnJBPKY"
      },
      "execution_count": 11,
      "outputs": []
    },
    {
      "cell_type": "code",
      "source": [
        "#racunanje verovatnoce Y da bude jedne od tri klase \n",
        "fi_0=m0/X_train.shape[0]\n",
        "fi_1=m1/X_train.shape[0]\n",
        "fi_2=m2/X_train.shape[0]\n"
      ],
      "metadata": {
        "id": "BQO5Xdm8ZnHJ"
      },
      "execution_count": 12,
      "outputs": []
    },
    {
      "cell_type": "code",
      "source": [
        "#odredjivanje verovatnoce pojavljivanja svake klase\n",
        "pom_0=X_test-mi_0\n",
        "pom_1=X_test-mi_1\n",
        "pom_2=X_test-mi_2\n",
        "ver_0=np.exp(-1/2 * np.dot(np.dot(pom_0,np.linalg.inv(conv_0)),pom_0.transpose()))*fi_0\n",
        "ver_1=np.exp(-1/2 * np.dot(np.dot(pom_1,np.linalg.inv(conv_1)),pom_1.transpose()))*fi_1\n",
        "ver_2=np.exp(-1/2 * np.dot(np.dot(pom_2,np.linalg.inv(conv_2)),pom_2.transpose()))*fi_2\n",
        "res0=np.diagonal(ver_0)\n",
        "res1=np.diagonal(ver_1)\n",
        "res2=np.diagonal(ver_2)\n",
        "\n"
      ],
      "metadata": {
        "id": "CloKLbWpmfns"
      },
      "execution_count": 14,
      "outputs": []
    },
    {
      "cell_type": "code",
      "source": [
        "#odredjivanje tacnosti\n",
        "Y_prediction=np.zeros((Y_test.shape[0],1))\n",
        "for i in range(Y_test.shape[0]):\n",
        "  Y_prediction[i]=np.argmax([res0[i],res1[i],res2[i]]) #uzima najvecu verovatnocu\n",
        "tacno=0  \n",
        "for i in range(Y_test.shape[0]):\n",
        "  if Y_prediction[i] == Y_test[i]:\n",
        "    tacno+=1 \n",
        "konacno=tacno/Y_test.shape[0] *100\n",
        "print(f\"Tacnost GDA na test skupu je:{konacno}%\")"
      ],
      "metadata": {
        "colab": {
          "base_uri": "https://localhost:8080/"
        },
        "id": "aum-N3rtmAnX",
        "outputId": "f4daa20e-5693-48e4-b6da-a686c73d551a"
      },
      "execution_count": 16,
      "outputs": [
        {
          "output_type": "stream",
          "name": "stdout",
          "text": [
            "Tacnost GDA na test skupu je:95.55555555555556%\n"
          ]
        }
      ]
    }
  ]
}